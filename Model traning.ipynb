{
 "cells": [
  {
   "cell_type": "code",
   "execution_count": 109,
   "id": "19d9992f-888c-4bcd-90f1-5a7535bbb9af",
   "metadata": {},
   "outputs": [],
   "source": [
    "import pandas as pd"
   ]
  },
  {
   "cell_type": "code",
   "execution_count": 110,
   "id": "8be84c86-fa96-491a-8d89-64fba2ff5bdf",
   "metadata": {},
   "outputs": [],
   "source": [
    "df=pd.read_csv(\"spotify_millsongdata.csv\")"
   ]
  },
  {
   "cell_type": "code",
   "execution_count": 111,
   "id": "d708466b-e9f9-44b1-9def-87a05e5b8a95",
   "metadata": {},
   "outputs": [
    {
     "data": {
      "text/plain": [
       "artist    0\n",
       "song      0\n",
       "link      0\n",
       "text      0\n",
       "dtype: int64"
      ]
     },
     "execution_count": 111,
     "metadata": {},
     "output_type": "execute_result"
    }
   ],
   "source": [
    "df.isnull().sum()"
   ]
  },
  {
   "cell_type": "code",
   "execution_count": 112,
   "id": "9ba686f0-5c3f-4322-a572-4727514c8064",
   "metadata": {},
   "outputs": [],
   "source": [
    "df=df.sample(5000).drop('link',axis=1).reset_index(drop=True)"
   ]
  },
  {
   "cell_type": "code",
   "execution_count": 113,
   "id": "5ecea9b9-3628-4934-97a8-cd54b6bf5c10",
   "metadata": {},
   "outputs": [
    {
     "data": {
      "text/html": [
       "<div>\n",
       "<style scoped>\n",
       "    .dataframe tbody tr th:only-of-type {\n",
       "        vertical-align: middle;\n",
       "    }\n",
       "\n",
       "    .dataframe tbody tr th {\n",
       "        vertical-align: top;\n",
       "    }\n",
       "\n",
       "    .dataframe thead th {\n",
       "        text-align: right;\n",
       "    }\n",
       "</style>\n",
       "<table border=\"1\" class=\"dataframe\">\n",
       "  <thead>\n",
       "    <tr style=\"text-align: right;\">\n",
       "      <th></th>\n",
       "      <th>artist</th>\n",
       "      <th>song</th>\n",
       "      <th>text</th>\n",
       "    </tr>\n",
       "  </thead>\n",
       "  <tbody>\n",
       "    <tr>\n",
       "      <th>0</th>\n",
       "      <td>Bob Dylan</td>\n",
       "      <td>Everything Is Broken</td>\n",
       "      <td>Broken lines, broken strings,  \\r\\nBroken thre...</td>\n",
       "    </tr>\n",
       "    <tr>\n",
       "      <th>1</th>\n",
       "      <td>Leann Rimes</td>\n",
       "      <td>Right Kind Of Wrong</td>\n",
       "      <td>Know all about  \\r\\nAbout your reputation  \\r\\...</td>\n",
       "    </tr>\n",
       "    <tr>\n",
       "      <th>2</th>\n",
       "      <td>Beach Boys</td>\n",
       "      <td>Hushabye</td>\n",
       "      <td>Oo ooo ooo ooo ooo ooo ooo  \\r\\nAh ah ah ah  \\...</td>\n",
       "    </tr>\n",
       "    <tr>\n",
       "      <th>3</th>\n",
       "      <td>Insane Clown Posse</td>\n",
       "      <td>Rollin' Over</td>\n",
       "      <td>Rolin' over, Hell muthafuckin' yeah bitch. Hat...</td>\n",
       "    </tr>\n",
       "    <tr>\n",
       "      <th>4</th>\n",
       "      <td>Red Hot Chili Peppers</td>\n",
       "      <td>Blues For Meister</td>\n",
       "      <td>It's always half and half  \\r\\nI'm happy and I...</td>\n",
       "    </tr>\n",
       "    <tr>\n",
       "      <th>...</th>\n",
       "      <td>...</td>\n",
       "      <td>...</td>\n",
       "      <td>...</td>\n",
       "    </tr>\n",
       "    <tr>\n",
       "      <th>4995</th>\n",
       "      <td>Nickelback</td>\n",
       "      <td>Falls Back On</td>\n",
       "      <td>No, I don't guess  \\r\\nI don't sacrifice  \\r\\n...</td>\n",
       "    </tr>\n",
       "    <tr>\n",
       "      <th>4996</th>\n",
       "      <td>Uncle Tupelo</td>\n",
       "      <td>So Called Friend</td>\n",
       "      <td>Never again, your so called friend  \\r\\nWill l...</td>\n",
       "    </tr>\n",
       "    <tr>\n",
       "      <th>4997</th>\n",
       "      <td>Peter Cetera</td>\n",
       "      <td>I Can Feel It</td>\n",
       "      <td>You know there's something I gotta say  \\r\\nI ...</td>\n",
       "    </tr>\n",
       "    <tr>\n",
       "      <th>4998</th>\n",
       "      <td>Bob Seger</td>\n",
       "      <td>Like A Rock</td>\n",
       "      <td>Stood there boldly  \\r\\nSweatin', in the sun  ...</td>\n",
       "    </tr>\n",
       "    <tr>\n",
       "      <th>4999</th>\n",
       "      <td>Ella Fitzgerald</td>\n",
       "      <td>Ding-Dong! The Witch Is Dead</td>\n",
       "      <td>Ding Dong! The Witch is dead. Which old Witch?...</td>\n",
       "    </tr>\n",
       "  </tbody>\n",
       "</table>\n",
       "<p>5000 rows × 3 columns</p>\n",
       "</div>"
      ],
      "text/plain": [
       "                     artist                          song  \\\n",
       "0                 Bob Dylan          Everything Is Broken   \n",
       "1               Leann Rimes           Right Kind Of Wrong   \n",
       "2                Beach Boys                      Hushabye   \n",
       "3        Insane Clown Posse                  Rollin' Over   \n",
       "4     Red Hot Chili Peppers             Blues For Meister   \n",
       "...                     ...                           ...   \n",
       "4995             Nickelback                 Falls Back On   \n",
       "4996           Uncle Tupelo              So Called Friend   \n",
       "4997           Peter Cetera                 I Can Feel It   \n",
       "4998              Bob Seger                   Like A Rock   \n",
       "4999        Ella Fitzgerald  Ding-Dong! The Witch Is Dead   \n",
       "\n",
       "                                                   text  \n",
       "0     Broken lines, broken strings,  \\r\\nBroken thre...  \n",
       "1     Know all about  \\r\\nAbout your reputation  \\r\\...  \n",
       "2     Oo ooo ooo ooo ooo ooo ooo  \\r\\nAh ah ah ah  \\...  \n",
       "3     Rolin' over, Hell muthafuckin' yeah bitch. Hat...  \n",
       "4     It's always half and half  \\r\\nI'm happy and I...  \n",
       "...                                                 ...  \n",
       "4995  No, I don't guess  \\r\\nI don't sacrifice  \\r\\n...  \n",
       "4996  Never again, your so called friend  \\r\\nWill l...  \n",
       "4997  You know there's something I gotta say  \\r\\nI ...  \n",
       "4998  Stood there boldly  \\r\\nSweatin', in the sun  ...  \n",
       "4999  Ding Dong! The Witch is dead. Which old Witch?...  \n",
       "\n",
       "[5000 rows x 3 columns]"
      ]
     },
     "execution_count": 113,
     "metadata": {},
     "output_type": "execute_result"
    }
   ],
   "source": [
    "df"
   ]
  },
  {
   "cell_type": "code",
   "execution_count": 114,
   "id": "17561249-956c-4b2a-92ed-bf071e8abf10",
   "metadata": {},
   "outputs": [
    {
     "data": {
      "text/plain": [
       "\"Broken lines, broken strings,  \\r\\nBroken threads, broken springs,  \\r\\nBroken idols, broken heads,  \\r\\nPeople sleeping in broken beds.  \\r\\nAin't no use jiving  \\r\\nAin't no use joking  \\r\\nEverything is broken.  \\r\\n  \\r\\nBroken bottles, broken plates,  \\r\\nBroken switches, broken gates,  \\r\\nBroken dishes, broken parts,  \\r\\nStreets are filled with broken hearts.  \\r\\nBroken words never meant to be spoken,  \\r\\nEverything is broken.  \\r\\n  \\r\\nBridge: Seem like every time you stop and turn around  \\r\\nSomething else just hit the ground  \\r\\n  \\r\\nBroken cutters, broken saws,  \\r\\nBroken buckles, broken laws,  \\r\\nBroken bodies, broken bones,  \\r\\nBroken voices on broken phones.  \\r\\nTake a deep breath, feel like you're chokin',  \\r\\nEverything is broken.  \\r\\n  \\r\\nBridge: Every time you leave and go off someplace  \\r\\nThings fall to pieces in my face  \\r\\n  \\r\\nBroken hands on broken ploughs,  \\r\\nBroken treaties, broken vows,  \\r\\nBroken pipes, broken tools,  \\r\\nPeople bending broken rules.  \\r\\nHound dog howling, bull frog croaking,  \\r\\nEverything is broken.\\r\\n\\r\\n\""
      ]
     },
     "execution_count": 114,
     "metadata": {},
     "output_type": "execute_result"
    }
   ],
   "source": [
    "df['text'][0]"
   ]
  },
  {
   "cell_type": "code",
   "execution_count": 115,
   "id": "979461f4-6877-4a29-9b20-0e79d9cad83a",
   "metadata": {},
   "outputs": [
    {
     "data": {
      "text/plain": [
       "(5000, 3)"
      ]
     },
     "execution_count": 115,
     "metadata": {},
     "output_type": "execute_result"
    }
   ],
   "source": [
    "df.shape"
   ]
  },
  {
   "cell_type": "code",
   "execution_count": 116,
   "id": "47a3b5ce-1f0f-42b1-82db-cf88303f8928",
   "metadata": {},
   "outputs": [],
   "source": [
    "df['text']=df['text'].str.lower().replace(r'^\\w\\s', ' ').replace(r'\\n', ' ',regex=True)"
   ]
  },
  {
   "cell_type": "code",
   "execution_count": 117,
   "id": "595dbe43-558d-499c-a610-b03df210f788",
   "metadata": {},
   "outputs": [
    {
     "data": {
      "text/html": [
       "<div>\n",
       "<style scoped>\n",
       "    .dataframe tbody tr th:only-of-type {\n",
       "        vertical-align: middle;\n",
       "    }\n",
       "\n",
       "    .dataframe tbody tr th {\n",
       "        vertical-align: top;\n",
       "    }\n",
       "\n",
       "    .dataframe thead th {\n",
       "        text-align: right;\n",
       "    }\n",
       "</style>\n",
       "<table border=\"1\" class=\"dataframe\">\n",
       "  <thead>\n",
       "    <tr style=\"text-align: right;\">\n",
       "      <th></th>\n",
       "      <th>artist</th>\n",
       "      <th>song</th>\n",
       "      <th>text</th>\n",
       "    </tr>\n",
       "  </thead>\n",
       "  <tbody>\n",
       "    <tr>\n",
       "      <th>0</th>\n",
       "      <td>Bob Dylan</td>\n",
       "      <td>Everything Is Broken</td>\n",
       "      <td>broken lines, broken strings,  \\r broken threa...</td>\n",
       "    </tr>\n",
       "    <tr>\n",
       "      <th>1</th>\n",
       "      <td>Leann Rimes</td>\n",
       "      <td>Right Kind Of Wrong</td>\n",
       "      <td>know all about  \\r about your reputation  \\r a...</td>\n",
       "    </tr>\n",
       "    <tr>\n",
       "      <th>2</th>\n",
       "      <td>Beach Boys</td>\n",
       "      <td>Hushabye</td>\n",
       "      <td>oo ooo ooo ooo ooo ooo ooo  \\r ah ah ah ah  \\r...</td>\n",
       "    </tr>\n",
       "    <tr>\n",
       "      <th>3</th>\n",
       "      <td>Insane Clown Posse</td>\n",
       "      <td>Rollin' Over</td>\n",
       "      <td>rolin' over, hell muthafuckin' yeah bitch. hat...</td>\n",
       "    </tr>\n",
       "    <tr>\n",
       "      <th>4</th>\n",
       "      <td>Red Hot Chili Peppers</td>\n",
       "      <td>Blues For Meister</td>\n",
       "      <td>it's always half and half  \\r i'm happy and i'...</td>\n",
       "    </tr>\n",
       "    <tr>\n",
       "      <th>...</th>\n",
       "      <td>...</td>\n",
       "      <td>...</td>\n",
       "      <td>...</td>\n",
       "    </tr>\n",
       "    <tr>\n",
       "      <th>4995</th>\n",
       "      <td>Nickelback</td>\n",
       "      <td>Falls Back On</td>\n",
       "      <td>no, i don't guess  \\r i don't sacrifice  \\r an...</td>\n",
       "    </tr>\n",
       "    <tr>\n",
       "      <th>4996</th>\n",
       "      <td>Uncle Tupelo</td>\n",
       "      <td>So Called Friend</td>\n",
       "      <td>never again, your so called friend  \\r will le...</td>\n",
       "    </tr>\n",
       "    <tr>\n",
       "      <th>4997</th>\n",
       "      <td>Peter Cetera</td>\n",
       "      <td>I Can Feel It</td>\n",
       "      <td>you know there's something i gotta say  \\r i c...</td>\n",
       "    </tr>\n",
       "    <tr>\n",
       "      <th>4998</th>\n",
       "      <td>Bob Seger</td>\n",
       "      <td>Like A Rock</td>\n",
       "      <td>stood there boldly  \\r sweatin', in the sun  \\...</td>\n",
       "    </tr>\n",
       "    <tr>\n",
       "      <th>4999</th>\n",
       "      <td>Ella Fitzgerald</td>\n",
       "      <td>Ding-Dong! The Witch Is Dead</td>\n",
       "      <td>ding dong! the witch is dead. which old witch?...</td>\n",
       "    </tr>\n",
       "  </tbody>\n",
       "</table>\n",
       "<p>5000 rows × 3 columns</p>\n",
       "</div>"
      ],
      "text/plain": [
       "                     artist                          song  \\\n",
       "0                 Bob Dylan          Everything Is Broken   \n",
       "1               Leann Rimes           Right Kind Of Wrong   \n",
       "2                Beach Boys                      Hushabye   \n",
       "3        Insane Clown Posse                  Rollin' Over   \n",
       "4     Red Hot Chili Peppers             Blues For Meister   \n",
       "...                     ...                           ...   \n",
       "4995             Nickelback                 Falls Back On   \n",
       "4996           Uncle Tupelo              So Called Friend   \n",
       "4997           Peter Cetera                 I Can Feel It   \n",
       "4998              Bob Seger                   Like A Rock   \n",
       "4999        Ella Fitzgerald  Ding-Dong! The Witch Is Dead   \n",
       "\n",
       "                                                   text  \n",
       "0     broken lines, broken strings,  \\r broken threa...  \n",
       "1     know all about  \\r about your reputation  \\r a...  \n",
       "2     oo ooo ooo ooo ooo ooo ooo  \\r ah ah ah ah  \\r...  \n",
       "3     rolin' over, hell muthafuckin' yeah bitch. hat...  \n",
       "4     it's always half and half  \\r i'm happy and i'...  \n",
       "...                                                 ...  \n",
       "4995  no, i don't guess  \\r i don't sacrifice  \\r an...  \n",
       "4996  never again, your so called friend  \\r will le...  \n",
       "4997  you know there's something i gotta say  \\r i c...  \n",
       "4998  stood there boldly  \\r sweatin', in the sun  \\...  \n",
       "4999  ding dong! the witch is dead. which old witch?...  \n",
       "\n",
       "[5000 rows x 3 columns]"
      ]
     },
     "execution_count": 117,
     "metadata": {},
     "output_type": "execute_result"
    }
   ],
   "source": [
    "df"
   ]
  },
  {
   "cell_type": "code",
   "execution_count": 118,
   "id": "e6316b4d-5c86-4179-8801-82af3917f981",
   "metadata": {},
   "outputs": [],
   "source": [
    "import nltk\n",
    "from nltk.stem.porter import PorterStemmer"
   ]
  },
  {
   "cell_type": "code",
   "execution_count": 119,
   "id": "13b19178-737e-4d5f-8ecb-21a206ef7408",
   "metadata": {},
   "outputs": [],
   "source": [
    "stemmer=PorterStemmer()"
   ]
  },
  {
   "cell_type": "code",
   "execution_count": 120,
   "id": "bf5d95c1-6a1d-469a-a46f-683414fe4793",
   "metadata": {},
   "outputs": [],
   "source": [
    "def token(txt):\n",
    "    token = nltk.word_tokenize(txt)\n",
    "    a = [stemmer.stem(w) for w in token]\n",
    "    return \" \".join(a)"
   ]
  },
  {
   "cell_type": "code",
   "execution_count": 121,
   "id": "fa590c6f-dc85-4e61-819a-2ca47267ef32",
   "metadata": {},
   "outputs": [
    {
     "data": {
      "text/plain": [
       "'you are beauti , beauti'"
      ]
     },
     "execution_count": 121,
     "metadata": {},
     "output_type": "execute_result"
    }
   ],
   "source": [
    "token(\"you are beautiful , beauty\")"
   ]
  },
  {
   "cell_type": "code",
   "execution_count": 122,
   "id": "c981db23-f496-47ef-bbdf-e3b5ab5d6beb",
   "metadata": {},
   "outputs": [
    {
     "data": {
      "text/plain": [
       "0       broken line , broken string , broken thread , ...\n",
       "1       know all about about your reput and how it 's ...\n",
       "2       oo ooo ooo ooo ooo ooo ooo ah ah ah ah oo ooo ...\n",
       "3       rolin ' over , hell muthafuckin ' yeah bitch ....\n",
       "4       it 's alway half and half i 'm happi and i 'm ...\n",
       "                              ...                        \n",
       "4995    no , i do n't guess i do n't sacrific and i kn...\n",
       "4996    never again , your so call friend will leav yo...\n",
       "4997    you know there 's someth i got ta say i can fe...\n",
       "4998    stood there boldli sweatin ' , in the sun felt...\n",
       "4999    ding dong ! the witch is dead . which old witc...\n",
       "Name: text, Length: 5000, dtype: object"
      ]
     },
     "execution_count": 122,
     "metadata": {},
     "output_type": "execute_result"
    }
   ],
   "source": [
    "df['text'].apply(lambda x:token(x))"
   ]
  },
  {
   "cell_type": "code",
   "execution_count": 123,
   "id": "b9a4a580-eab3-447a-b689-92931c3c6581",
   "metadata": {},
   "outputs": [],
   "source": [
    "from sklearn.feature_extraction.text import TfidfVectorizer\n",
    "from sklearn.metrics.pairwise import cosine_similarity"
   ]
  },
  {
   "cell_type": "code",
   "execution_count": 124,
   "id": "eb96532f-d4a1-417d-8681-3c661a9d74d3",
   "metadata": {},
   "outputs": [],
   "source": [
    "tfid=TfidfVectorizer(analyzer='word',stop_words='english')"
   ]
  },
  {
   "cell_type": "code",
   "execution_count": 125,
   "id": "81bf901a-e0ca-41cb-afc2-d7763b88f3fa",
   "metadata": {},
   "outputs": [],
   "source": [
    "matrix=tfid.fit_transform(df['text'])"
   ]
  },
  {
   "cell_type": "code",
   "execution_count": 126,
   "id": "46e65a9a-add9-4c4f-8aec-831c545dd8b4",
   "metadata": {},
   "outputs": [],
   "source": [
    "similar = cosine_similarity(matrix)"
   ]
  },
  {
   "cell_type": "code",
   "execution_count": 127,
   "id": "1a64323d-2922-4dc4-87a3-5941b8c83942",
   "metadata": {},
   "outputs": [
    {
     "data": {
      "text/plain": [
       "array([0.00792112, 1.        , 0.00160354, ..., 0.17560434, 0.02786788,\n",
       "       0.01087578])"
      ]
     },
     "execution_count": 127,
     "metadata": {},
     "output_type": "execute_result"
    }
   ],
   "source": [
    "similar[1]"
   ]
  },
  {
   "cell_type": "code",
   "execution_count": 139,
   "id": "78388330-a2df-465d-b903-32653000d6e3",
   "metadata": {},
   "outputs": [],
   "source": [
    "def recommender(song_name):\n",
    "        idx = df[df['song'] == song_name].index[0]\n",
    "        dist = sorted(list(enumerate(similar[idx])), reverse=True, key=lambda x: x[1])\n",
    "        song = []\n",
    "        for s_id in dist[1:21]:\n",
    "            song.append(df.iloc[s_id[0]].song)\n",
    "        return song\n"
   ]
  },
  {
   "cell_type": "code",
   "execution_count": 140,
   "id": "9814765a-6dd1-48b1-b5d8-ae15b855ea68",
   "metadata": {},
   "outputs": [
    {
     "data": {
      "text/plain": [
       "['Not Following You',\n",
       " 'Island Fever',\n",
       " 'Train Leaves Here This Morning',\n",
       " 'Echo',\n",
       " 'Born To Die',\n",
       " \"We'll Be Alright\",\n",
       " 'Fallin Down',\n",
       " 'Make Me A Believer',\n",
       " 'Smile At You',\n",
       " \"Witches' Brew\",\n",
       " 'Look At Me Now',\n",
       " 'If I Needed Someone',\n",
       " 'Senorita',\n",
       " 'Leave This Man Alone',\n",
       " \"You're The One That I Want\",\n",
       " 'Weeping',\n",
       " 'Let Me Down Easy',\n",
       " 'Staring At The Sun',\n",
       " 'Stayin Alive (Rare)',\n",
       " 'Forever You Will Be Mine']"
      ]
     },
     "execution_count": 140,
     "metadata": {},
     "output_type": "execute_result"
    }
   ],
   "source": [
    "recommender(\"Hushabye\")"
   ]
  },
  {
   "cell_type": "code",
   "execution_count": 141,
   "id": "46217c70-7118-4af8-94f2-ea381971c613",
   "metadata": {},
   "outputs": [],
   "source": [
    "import pickle"
   ]
  },
  {
   "cell_type": "code",
   "execution_count": 142,
   "id": "43edac77-ec74-4ffa-9480-792e0681aa87",
   "metadata": {},
   "outputs": [],
   "source": [
    "pickle.dump(similar,open(\"similarity\",\"wb\"))"
   ]
  },
  {
   "cell_type": "code",
   "execution_count": 143,
   "id": "3ed5b241-a103-4047-bbee-babd691185eb",
   "metadata": {},
   "outputs": [],
   "source": [
    "pickle.dump(df ,open(\"df\",\"wb\"))"
   ]
  }
 ],
 "metadata": {
  "kernelspec": {
   "display_name": "Python 3 (ipykernel)",
   "language": "python",
   "name": "python3"
  },
  "language_info": {
   "codemirror_mode": {
    "name": "ipython",
    "version": 3
   },
   "file_extension": ".py",
   "mimetype": "text/x-python",
   "name": "python",
   "nbconvert_exporter": "python",
   "pygments_lexer": "ipython3",
   "version": "3.12.4"
  }
 },
 "nbformat": 4,
 "nbformat_minor": 5
}
